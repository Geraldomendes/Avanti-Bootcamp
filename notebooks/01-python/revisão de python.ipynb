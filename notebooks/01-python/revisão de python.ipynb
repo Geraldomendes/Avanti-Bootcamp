{
 "cells": [
  {
   "cell_type": "markdown",
   "metadata": {},
   "source": [
    "# Aula 02 - Revisão de python   "
   ]
  },
  {
   "cell_type": "code",
   "execution_count": 1,
   "metadata": {},
   "outputs": [
    {
     "name": "stdout",
     "output_type": "stream",
     "text": [
      "Soma:3\n",
      "Subtração: -1\n",
      "Multiplacação: 2\n",
      "Divisão: 0.5\n"
     ]
    }
   ],
   "source": [
    "#Variáveis e operadores\n",
    "\n",
    "#a\n",
    "num1 = int(input('Informe o primeiro número: '));\n",
    "num2 = int(input('Informe o segundo número: '));\n",
    "soma = num1 + num2;\n",
    "sub = num1 - num2;\n",
    "mult = num1 * num2;\n",
    "div = num1 / num2;\n",
    "\n",
    "print('Soma:{}'.format(soma));\n",
    "print('Subtração:', sub); \n",
    "print(f'Multiplacação: {mult}');\n",
    "print('Divisão:', div);"
   ]
  },
  {
   "cell_type": "code",
   "execution_count": 2,
   "metadata": {},
   "outputs": [],
   "source": [
    "#Variáveis e operadores\n",
    "#b\n",
    "import math\n",
    "raio = float(input('Informe o raio do círculo: '));\n",
    "area = math.pi*raio**2;\n",
    "\n",
    "print(f'A área do círculo é: {area:.2f} m²')"
   ]
  },
  {
   "cell_type": "code",
   "execution_count": 8,
   "metadata": {},
   "outputs": [
    {
     "name": "stdout",
     "output_type": "stream",
     "text": [
      "Maior de idade!\n"
     ]
    }
   ],
   "source": [
    "#Estruturas de seleção e repetição\n",
    "#a\n",
    "idade = int(input('Informe a idade: '));\n",
    "if idade>= 18:\n",
    "    print('Maior de idade!');\n",
    "else:\n",
    "    print('Menor de idade!');"
   ]
  },
  {
   "cell_type": "code",
   "execution_count": 10,
   "metadata": {},
   "outputs": [
    {
     "name": "stdout",
     "output_type": "stream",
     "text": [
      "Você errou, o número escolhido foi maior que o número secreto!\n",
      "Você errou, o número escolhido foi maior que o número secreto!\n",
      "Você errou, o número escolhido foi menor que o número secreto!\n",
      "Você errou, o número escolhido foi menor que o número secreto!\n",
      "Você errou, o número escolhido foi menor que o número secreto!\n"
     ]
    },
    {
     "ename": "ValueError",
     "evalue": "invalid literal for int() with base 10: ''",
     "output_type": "error",
     "traceback": [
      "\u001b[1;31m---------------------------------------------------------------------------\u001b[0m",
      "\u001b[1;31mValueError\u001b[0m                                Traceback (most recent call last)",
      "Cell \u001b[1;32mIn[10], line 10\u001b[0m\n\u001b[0;32m      6\u001b[0m tent \u001b[39m=\u001b[39m \u001b[39m30\u001b[39m\n\u001b[0;32m      8\u001b[0m \u001b[39mfor\u001b[39;00m rodada \u001b[39min\u001b[39;00m \u001b[39mrange\u001b[39m (\u001b[39m1\u001b[39m, tent\u001b[39m+\u001b[39m\u001b[39m1\u001b[39m):\n\u001b[1;32m---> 10\u001b[0m     num_esc \u001b[39m=\u001b[39m \u001b[39mint\u001b[39;49m(\u001b[39minput\u001b[39;49m(\u001b[39m'\u001b[39;49m\u001b[39mInforme um número entre 1 e 100: \u001b[39;49m\u001b[39m'\u001b[39;49m))\n\u001b[0;32m     12\u001b[0m     \u001b[39mif\u001b[39;00m num_esc \u001b[39m<\u001b[39m \u001b[39m1\u001b[39m \u001b[39mor\u001b[39;00m num_esc \u001b[39m>\u001b[39m \u001b[39m100\u001b[39m:\n\u001b[0;32m     13\u001b[0m         \u001b[39mprint\u001b[39m(\u001b[39m'\u001b[39m\u001b[39mNúmero inválido. O número deve ser entre 1 e 100: \u001b[39m\u001b[39m'\u001b[39m)\n",
      "\u001b[1;31mValueError\u001b[0m: invalid literal for int() with base 10: ''"
     ]
    }
   ],
   "source": [
    "#Estruturas de seleção e repetição\n",
    "#b\n",
    "import random\n",
    "\n",
    "numero_sec = random.randrange(1, 101)\n",
    "tent = 30\n",
    "\n",
    "for rodada in range (1, tent+1):\n",
    "\n",
    "    num_esc = int(input('Informe um número entre 1 e 100: '))\n",
    "\n",
    "    if num_esc < 1 or num_esc > 100:\n",
    "        print('Número inválido. O número deve ser entre 1 e 100: ')\n",
    "        continue\n",
    "\n",
    "    acertou = num_esc == numero_sec\n",
    "    maior = num_esc > numero_sec\n",
    "    menor = num_esc < numero_sec\n",
    "\n",
    "    if acertou:\n",
    "        print('Parabéns, você acertou o número secreto!')\n",
    "        break\n",
    "    else:\n",
    "        if maior:\n",
    "            print('Você errou, o número escolhido foi maior que o número secreto!')\n",
    "        elif menor:\n",
    "            print('Você errou, o número escolhido foi menor que o número secreto!')\n",
    "\n",
    "print('Fim do jogo!')\n"
   ]
  }
 ],
 "metadata": {
  "kernelspec": {
   "display_name": "Python 3.8.10 ('.venv': poetry)",
   "language": "python",
   "name": "python3"
  },
  "language_info": {
   "codemirror_mode": {
    "name": "ipython",
    "version": 3
   },
   "file_extension": ".py",
   "mimetype": "text/x-python",
   "name": "python",
   "nbconvert_exporter": "python",
   "pygments_lexer": "ipython3",
   "version": "3.11.5"
  },
  "orig_nbformat": 4,
  "vscode": {
   "interpreter": {
    "hash": "eb3c3305d8b111f0102f4f519c5f17abd113fe74db6752c355e994a9008815ef"
   }
  }
 },
 "nbformat": 4,
 "nbformat_minor": 2
}
