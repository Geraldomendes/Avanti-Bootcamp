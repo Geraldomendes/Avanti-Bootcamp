{
 "cells": [
  {
   "cell_type": "markdown",
   "metadata": {},
   "source": [
    "# Estatistica descritiva - Penguins"
   ]
  },
  {
   "cell_type": "code",
   "execution_count": 10,
   "metadata": {},
   "outputs": [],
   "source": [
    "import seaborn as sns \n",
    "import pandas as pd"
   ]
  },
  {
   "cell_type": "code",
   "execution_count": 15,
   "metadata": {},
   "outputs": [
    {
     "data": {
      "text/html": [
       "<div>\n",
       "<style scoped>\n",
       "    .dataframe tbody tr th:only-of-type {\n",
       "        vertical-align: middle;\n",
       "    }\n",
       "\n",
       "    .dataframe tbody tr th {\n",
       "        vertical-align: top;\n",
       "    }\n",
       "\n",
       "    .dataframe thead th {\n",
       "        text-align: right;\n",
       "    }\n",
       "</style>\n",
       "<table border=\"1\" class=\"dataframe\">\n",
       "  <thead>\n",
       "    <tr style=\"text-align: right;\">\n",
       "      <th></th>\n",
       "      <th>total_bill</th>\n",
       "      <th>tip</th>\n",
       "      <th>sex</th>\n",
       "      <th>smoker</th>\n",
       "      <th>day</th>\n",
       "      <th>time</th>\n",
       "      <th>size</th>\n",
       "    </tr>\n",
       "  </thead>\n",
       "  <tbody>\n",
       "    <tr>\n",
       "      <th>0</th>\n",
       "      <td>16.99</td>\n",
       "      <td>1.01</td>\n",
       "      <td>Female</td>\n",
       "      <td>No</td>\n",
       "      <td>Sun</td>\n",
       "      <td>Dinner</td>\n",
       "      <td>2</td>\n",
       "    </tr>\n",
       "    <tr>\n",
       "      <th>1</th>\n",
       "      <td>10.34</td>\n",
       "      <td>1.66</td>\n",
       "      <td>Male</td>\n",
       "      <td>No</td>\n",
       "      <td>Sun</td>\n",
       "      <td>Dinner</td>\n",
       "      <td>3</td>\n",
       "    </tr>\n",
       "    <tr>\n",
       "      <th>2</th>\n",
       "      <td>21.01</td>\n",
       "      <td>3.50</td>\n",
       "      <td>Male</td>\n",
       "      <td>No</td>\n",
       "      <td>Sun</td>\n",
       "      <td>Dinner</td>\n",
       "      <td>3</td>\n",
       "    </tr>\n",
       "    <tr>\n",
       "      <th>3</th>\n",
       "      <td>23.68</td>\n",
       "      <td>3.31</td>\n",
       "      <td>Male</td>\n",
       "      <td>No</td>\n",
       "      <td>Sun</td>\n",
       "      <td>Dinner</td>\n",
       "      <td>2</td>\n",
       "    </tr>\n",
       "    <tr>\n",
       "      <th>4</th>\n",
       "      <td>24.59</td>\n",
       "      <td>3.61</td>\n",
       "      <td>Female</td>\n",
       "      <td>No</td>\n",
       "      <td>Sun</td>\n",
       "      <td>Dinner</td>\n",
       "      <td>4</td>\n",
       "    </tr>\n",
       "  </tbody>\n",
       "</table>\n",
       "</div>"
      ],
      "text/plain": [
       "   total_bill   tip     sex smoker  day    time  size\n",
       "0       16.99  1.01  Female     No  Sun  Dinner     2\n",
       "1       10.34  1.66    Male     No  Sun  Dinner     3\n",
       "2       21.01  3.50    Male     No  Sun  Dinner     3\n",
       "3       23.68  3.31    Male     No  Sun  Dinner     2\n",
       "4       24.59  3.61  Female     No  Sun  Dinner     4"
      ]
     },
     "execution_count": 15,
     "metadata": {},
     "output_type": "execute_result"
    }
   ],
   "source": [
    "df = sns.load_dataset(\"tips\")\n",
    "df.head()"
   ]
  },
  {
   "cell_type": "code",
   "execution_count": 16,
   "metadata": {},
   "outputs": [],
   "source": [
    "informacoes_colunas = {\n",
    "    \"total_bill\": {\n",
    "        \"descricao\": \"O valor total da conta em dólares\",\n",
    "        \"tipo_dado\": \"Quantitativo\",\n",
    "        \"subtipo_dado\": \"Contínuo\",\n",
    "        \"coluna\": \"total_bill\"\n",
    "    },\n",
    "    \"tip\": {\n",
    "        \"descricao\": \"A gorjeta deixada em dólares\",\n",
    "        \"tipo_dado\": \"Quantitativo\",\n",
    "        \"subtipo_dado\": \"Contínuo\",\n",
    "        \"coluna\": \"tip\"\n",
    "    },\n",
    "    \"sex\": {\n",
    "        \"descricao\": \"Sexo do pagante\",\n",
    "        \"tipo_dado\": \"Qualitativo\",\n",
    "        \"subtipo_dado\": \"Nominal\",\n",
    "        \"coluna\": \"sex\"\n",
    "    },\n",
    "    \"smoker\": {\n",
    "        \"descricao\": \"Se o pagante é fumante ou não\",\n",
    "        \"tipo_dado\": \"Qualitativo\",\n",
    "        \"subtipo_dado\": \"Nominal\",\n",
    "        \"coluna\": \"smoker\"\n",
    "    },\n",
    "    \"day\": {\n",
    "        \"descricao\": \"Dia da semana\",\n",
    "        \"tipo_dado\": \"Qualitativo\",\n",
    "        \"subtipo_dado\": \"Ordinal\",\n",
    "        \"coluna\": \"day\"\n",
    "    },\n",
    "    \"time\": {\n",
    "        \"descricao\": \"Refeição (almoço ou jantar)\",\n",
    "        \"tipo_dado\": \"Qualitativo\",\n",
    "        \"subtipo_dado\": \"Nominal\",\n",
    "        \"coluna\": \"time\"\n",
    "    },\n",
    "    \"size\": {\n",
    "        \"descricao\": \"Tamanho da mesa\",\n",
    "        \"tipo_dado\": \"Quantitativo\",\n",
    "        \"subtipo_dado\": \"Discreto\",\n",
    "        \"coluna\": \"size\"\n",
    "    }\n",
    "}"
   ]
  },
  {
   "cell_type": "code",
   "execution_count": 17,
   "metadata": {},
   "outputs": [
    {
     "name": "stdout",
     "output_type": "stream",
     "text": [
      "Estatísticas de tendência central e dispersão para cada coluna numérica:\n",
      "       total_bill         tip        size\n",
      "count  244.000000  244.000000  244.000000\n",
      "mean    19.785943    2.998279    2.569672\n",
      "std      8.902412    1.383638    0.951100\n",
      "min      3.070000    1.000000    1.000000\n",
      "25%     13.347500    2.000000    2.000000\n",
      "50%     17.795000    2.900000    2.000000\n",
      "75%     24.127500    3.562500    3.000000\n",
      "max     50.810000   10.000000    6.000000\n"
     ]
    }
   ],
   "source": [
    "colunas_numericas = df.select_dtypes(include=['number'])\n",
    "\n",
    "estatisticas_por_coluna = colunas_numericas.describe()\n",
    "\n",
    "print(\"Estatísticas de tendência central e dispersão para cada coluna numérica:\")\n",
    "print(estatisticas_por_coluna)"
   ]
  },
  {
   "cell_type": "code",
   "execution_count": 21,
   "metadata": {},
   "outputs": [
    {
     "name": "stdout",
     "output_type": "stream",
     "text": [
      "Contagem de ocorrências para cada variável categórica:\n"
     ]
    }
   ],
   "source": [
    "colunas_categoricas = df.select_dtypes(include=['object'])\n",
    "\n",
    "contagem_ocorrencias = {}\n",
    "for coluna in colunas_categoricas:\n",
    "    contagem_ocorrencias[coluna] = df[coluna].value_counts()\n",
    "\n",
    "print(\"Contagem de ocorrências para cada variável categórica:\")\n",
    "for coluna, contagem in contagem_ocorrencias.items():\n",
    "    print(f\"\\nContagem para a variável: {coluna}\")\n",
    "    print(contagem)"
   ]
  }
 ],
 "metadata": {
  "kernelspec": {
   "display_name": "Python 3.8.10 ('.venv': poetry)",
   "language": "python",
   "name": "python3"
  },
  "language_info": {
   "codemirror_mode": {
    "name": "ipython",
    "version": 3
   },
   "file_extension": ".py",
   "mimetype": "text/x-python",
   "name": "python",
   "nbconvert_exporter": "python",
   "pygments_lexer": "ipython3",
   "version": "3.11.5"
  },
  "orig_nbformat": 4,
  "vscode": {
   "interpreter": {
    "hash": "eb3c3305d8b111f0102f4f519c5f17abd113fe74db6752c355e994a9008815ef"
   }
  }
 },
 "nbformat": 4,
 "nbformat_minor": 2
}
