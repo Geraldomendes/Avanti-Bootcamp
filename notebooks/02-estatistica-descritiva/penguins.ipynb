{
 "cells": [
  {
   "cell_type": "markdown",
   "metadata": {},
   "source": [
    "# Estatistica descritiva - Penguins"
   ]
  },
  {
   "cell_type": "code",
   "execution_count": 2,
   "metadata": {},
   "outputs": [],
   "source": [
    "import seaborn as sns \n",
    "import pandas as pd"
   ]
  },
  {
   "cell_type": "code",
   "execution_count": 3,
   "metadata": {},
   "outputs": [
    {
     "data": {
      "text/html": [
       "<div>\n",
       "<style scoped>\n",
       "    .dataframe tbody tr th:only-of-type {\n",
       "        vertical-align: middle;\n",
       "    }\n",
       "\n",
       "    .dataframe tbody tr th {\n",
       "        vertical-align: top;\n",
       "    }\n",
       "\n",
       "    .dataframe thead th {\n",
       "        text-align: right;\n",
       "    }\n",
       "</style>\n",
       "<table border=\"1\" class=\"dataframe\">\n",
       "  <thead>\n",
       "    <tr style=\"text-align: right;\">\n",
       "      <th></th>\n",
       "      <th>species</th>\n",
       "      <th>island</th>\n",
       "      <th>bill_length_mm</th>\n",
       "      <th>bill_depth_mm</th>\n",
       "      <th>flipper_length_mm</th>\n",
       "      <th>body_mass_g</th>\n",
       "      <th>sex</th>\n",
       "    </tr>\n",
       "  </thead>\n",
       "  <tbody>\n",
       "    <tr>\n",
       "      <th>0</th>\n",
       "      <td>Adelie</td>\n",
       "      <td>Torgersen</td>\n",
       "      <td>39.1</td>\n",
       "      <td>18.7</td>\n",
       "      <td>181.0</td>\n",
       "      <td>3750.0</td>\n",
       "      <td>Male</td>\n",
       "    </tr>\n",
       "    <tr>\n",
       "      <th>1</th>\n",
       "      <td>Adelie</td>\n",
       "      <td>Torgersen</td>\n",
       "      <td>39.5</td>\n",
       "      <td>17.4</td>\n",
       "      <td>186.0</td>\n",
       "      <td>3800.0</td>\n",
       "      <td>Female</td>\n",
       "    </tr>\n",
       "    <tr>\n",
       "      <th>2</th>\n",
       "      <td>Adelie</td>\n",
       "      <td>Torgersen</td>\n",
       "      <td>40.3</td>\n",
       "      <td>18.0</td>\n",
       "      <td>195.0</td>\n",
       "      <td>3250.0</td>\n",
       "      <td>Female</td>\n",
       "    </tr>\n",
       "    <tr>\n",
       "      <th>3</th>\n",
       "      <td>Adelie</td>\n",
       "      <td>Torgersen</td>\n",
       "      <td>NaN</td>\n",
       "      <td>NaN</td>\n",
       "      <td>NaN</td>\n",
       "      <td>NaN</td>\n",
       "      <td>NaN</td>\n",
       "    </tr>\n",
       "    <tr>\n",
       "      <th>4</th>\n",
       "      <td>Adelie</td>\n",
       "      <td>Torgersen</td>\n",
       "      <td>36.7</td>\n",
       "      <td>19.3</td>\n",
       "      <td>193.0</td>\n",
       "      <td>3450.0</td>\n",
       "      <td>Female</td>\n",
       "    </tr>\n",
       "  </tbody>\n",
       "</table>\n",
       "</div>"
      ],
      "text/plain": [
       "  species     island  bill_length_mm  bill_depth_mm  flipper_length_mm  \\\n",
       "0  Adelie  Torgersen            39.1           18.7              181.0   \n",
       "1  Adelie  Torgersen            39.5           17.4              186.0   \n",
       "2  Adelie  Torgersen            40.3           18.0              195.0   \n",
       "3  Adelie  Torgersen             NaN            NaN                NaN   \n",
       "4  Adelie  Torgersen            36.7           19.3              193.0   \n",
       "\n",
       "   body_mass_g     sex  \n",
       "0       3750.0    Male  \n",
       "1       3800.0  Female  \n",
       "2       3250.0  Female  \n",
       "3          NaN     NaN  \n",
       "4       3450.0  Female  "
      ]
     },
     "execution_count": 3,
     "metadata": {},
     "output_type": "execute_result"
    }
   ],
   "source": [
    "df = sns.load_dataset(\"penguins\")\n",
    "df.head()"
   ]
  },
  {
   "cell_type": "code",
   "execution_count": 8,
   "metadata": {},
   "outputs": [],
   "source": [
    "informacoes_colunas = {\n",
    "    \"Species\": {\n",
    "        \"coluna\": \"Species\",\n",
    "        \"descricao\": \"Espécie de pinguim\",\n",
    "        \"tipo\": \"Qualitativo\",\n",
    "        \"subtipo\": \"Nominal\"\n",
    "    },\n",
    "    \"Island\": {\n",
    "        \"coluna\": \"Island\",\n",
    "        \"descricao\": \"Ilha onde o pinguim foi observado\",\n",
    "        \"tipo\": \"Qualitativo\",\n",
    "        \"subtipo\": \"Nominal\"\n",
    "    },\n",
    "    \"Bill Length (mm)\": {\n",
    "        \"coluna\": \"Bill Length (mm)\",\n",
    "        \"descricao\": \"Comprimento do bico em milímetros\",\n",
    "        \"tipo\": \"Quantitativo\",\n",
    "        \"subtipo\": \"Contínuo\"\n",
    "    },\n",
    "    \"Bill Depth (mm)\": {\n",
    "        \"coluna\": \"Bill Depth (mm)\",\n",
    "        \"descricao\": \"Profundidade do bico em milímetros\",\n",
    "        \"tipo\": \"Quantitativo\",\n",
    "        \"subtipo\": \"Contínuo\"\n",
    "    },\n",
    "    \"Flipper Length (mm)\": {\n",
    "        \"coluna\": \"Flipper Length (mm)\",\n",
    "        \"descricao\": \"Comprimento da nadadeira em milímetros\",\n",
    "        \"tipo\": \"Quantitativo\",\n",
    "        \"subtipo\": \"Contínuo\"\n",
    "    },\n",
    "    \"Body Mass (g)\": {\n",
    "        \"coluna\": \"Body Mass (g)\",\n",
    "        \"descricao\": \"Massa corporal do pinguim em gramas\",\n",
    "        \"tipo\": \"Quantitativo\",\n",
    "        \"subtipo\": \"Contínuo\"\n",
    "    },\n",
    "    \"Sex\": {\n",
    "        \"coluna\": \"Sex\",\n",
    "        \"descricao\": \"Sexo do pinguim\",\n",
    "        \"tipo\": \"Qualitativo\",\n",
    "        \"subtipo\": \"Nominal\"\n",
    "    }\n",
    "}"
   ]
  },
  {
   "cell_type": "code",
   "execution_count": 4,
   "metadata": {},
   "outputs": [
    {
     "name": "stdout",
     "output_type": "stream",
     "text": [
      "Estatísticas de tendência central e dispersão para cada coluna numérica:\n",
      "       bill_length_mm  bill_depth_mm  flipper_length_mm  body_mass_g\n",
      "count      342.000000     342.000000         342.000000   342.000000\n",
      "mean        43.921930      17.151170         200.915205  4201.754386\n",
      "std          5.459584       1.974793          14.061714   801.954536\n",
      "min         32.100000      13.100000         172.000000  2700.000000\n",
      "25%         39.225000      15.600000         190.000000  3550.000000\n",
      "50%         44.450000      17.300000         197.000000  4050.000000\n",
      "75%         48.500000      18.700000         213.000000  4750.000000\n",
      "max         59.600000      21.500000         231.000000  6300.000000\n"
     ]
    }
   ],
   "source": [
    "colunas_numericas = df.select_dtypes(include=['number'])\n",
    "\n",
    "estatisticas_por_coluna = colunas_numericas.describe()\n",
    "\n",
    "print(\"Estatísticas de tendência central e dispersão para cada coluna numérica:\")\n",
    "print(estatisticas_por_coluna)"
   ]
  },
  {
   "cell_type": "code",
   "execution_count": 6,
   "metadata": {},
   "outputs": [
    {
     "name": "stdout",
     "output_type": "stream",
     "text": [
      "Contagem de ocorrências para cada variável categórica:\n",
      "\n",
      "Contagem para a variável: species\n",
      "species\n",
      "Adelie       152\n",
      "Gentoo       124\n",
      "Chinstrap     68\n",
      "Name: count, dtype: int64\n",
      "\n",
      "Contagem para a variável: island\n",
      "island\n",
      "Biscoe       168\n",
      "Dream        124\n",
      "Torgersen     52\n",
      "Name: count, dtype: int64\n",
      "\n",
      "Contagem para a variável: sex\n",
      "sex\n",
      "Male      168\n",
      "Female    165\n",
      "Name: count, dtype: int64\n"
     ]
    }
   ],
   "source": [
    "colunas_categoricas = df.select_dtypes(include=['object'])\n",
    "\n",
    "contagem_ocorrencias = {}\n",
    "for coluna in colunas_categoricas:\n",
    "    contagem_ocorrencias[coluna] = df[coluna].value_counts()\n",
    "\n",
    "print(\"Contagem de ocorrências para cada variável categórica:\")\n",
    "for coluna, contagem in contagem_ocorrencias.items():\n",
    "    print(f\"\\nContagem para a variável: {coluna}\")\n",
    "    print(contagem)"
   ]
  }
 ],
 "metadata": {
  "kernelspec": {
   "display_name": "Python 3.8.10 ('.venv': poetry)",
   "language": "python",
   "name": "python3"
  },
  "language_info": {
   "codemirror_mode": {
    "name": "ipython",
    "version": 3
   },
   "file_extension": ".py",
   "mimetype": "text/x-python",
   "name": "python",
   "nbconvert_exporter": "python",
   "pygments_lexer": "ipython3",
   "version": "3.11.5"
  },
  "orig_nbformat": 4,
  "vscode": {
   "interpreter": {
    "hash": "eb3c3305d8b111f0102f4f519c5f17abd113fe74db6752c355e994a9008815ef"
   }
  }
 },
 "nbformat": 4,
 "nbformat_minor": 2
}
