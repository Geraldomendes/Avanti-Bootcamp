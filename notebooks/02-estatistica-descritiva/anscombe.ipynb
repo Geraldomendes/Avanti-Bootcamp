{
 "cells": [
  {
   "cell_type": "markdown",
   "metadata": {},
   "source": [
    "# Estatistica descritiva - Penguins"
   ]
  },
  {
   "cell_type": "code",
   "execution_count": 1,
   "metadata": {},
   "outputs": [],
   "source": [
    "import seaborn as sns \n",
    "import pandas as pd"
   ]
  },
  {
   "cell_type": "code",
   "execution_count": 2,
   "metadata": {},
   "outputs": [
    {
     "data": {
      "text/html": [
       "<div>\n",
       "<style scoped>\n",
       "    .dataframe tbody tr th:only-of-type {\n",
       "        vertical-align: middle;\n",
       "    }\n",
       "\n",
       "    .dataframe tbody tr th {\n",
       "        vertical-align: top;\n",
       "    }\n",
       "\n",
       "    .dataframe thead th {\n",
       "        text-align: right;\n",
       "    }\n",
       "</style>\n",
       "<table border=\"1\" class=\"dataframe\">\n",
       "  <thead>\n",
       "    <tr style=\"text-align: right;\">\n",
       "      <th></th>\n",
       "      <th>dataset</th>\n",
       "      <th>x</th>\n",
       "      <th>y</th>\n",
       "    </tr>\n",
       "  </thead>\n",
       "  <tbody>\n",
       "    <tr>\n",
       "      <th>0</th>\n",
       "      <td>I</td>\n",
       "      <td>10.0</td>\n",
       "      <td>8.04</td>\n",
       "    </tr>\n",
       "    <tr>\n",
       "      <th>1</th>\n",
       "      <td>I</td>\n",
       "      <td>8.0</td>\n",
       "      <td>6.95</td>\n",
       "    </tr>\n",
       "    <tr>\n",
       "      <th>2</th>\n",
       "      <td>I</td>\n",
       "      <td>13.0</td>\n",
       "      <td>7.58</td>\n",
       "    </tr>\n",
       "    <tr>\n",
       "      <th>3</th>\n",
       "      <td>I</td>\n",
       "      <td>9.0</td>\n",
       "      <td>8.81</td>\n",
       "    </tr>\n",
       "    <tr>\n",
       "      <th>4</th>\n",
       "      <td>I</td>\n",
       "      <td>11.0</td>\n",
       "      <td>8.33</td>\n",
       "    </tr>\n",
       "  </tbody>\n",
       "</table>\n",
       "</div>"
      ],
      "text/plain": [
       "  dataset     x     y\n",
       "0       I  10.0  8.04\n",
       "1       I   8.0  6.95\n",
       "2       I  13.0  7.58\n",
       "3       I   9.0  8.81\n",
       "4       I  11.0  8.33"
      ]
     },
     "execution_count": 2,
     "metadata": {},
     "output_type": "execute_result"
    }
   ],
   "source": [
    "df = sns.load_dataset(\"anscombe\")\n",
    "df.head()"
   ]
  },
  {
   "cell_type": "code",
   "execution_count": 16,
   "metadata": {},
   "outputs": [],
   "source": [
    "informacoes_colunas = {\n",
    "    \"total_bill\": {\n",
    "        \"descricao\": \"O valor total da conta em dólares\",\n",
    "        \"tipo_dado\": \"Quantitativo\",\n",
    "        \"subtipo_dado\": \"Contínuo\",\n",
    "        \"coluna\": \"total_bill\"\n",
    "    },\n",
    "    \"tip\": {\n",
    "        \"descricao\": \"A gorjeta deixada em dólares\",\n",
    "        \"tipo_dado\": \"Quantitativo\",\n",
    "        \"subtipo_dado\": \"Contínuo\",\n",
    "        \"coluna\": \"tip\"\n",
    "    },\n",
    "    \"sex\": {\n",
    "        \"descricao\": \"Sexo do pagante\",\n",
    "        \"tipo_dado\": \"Qualitativo\",\n",
    "        \"subtipo_dado\": \"Nominal\",\n",
    "        \"coluna\": \"sex\"\n",
    "    },\n",
    "    \"smoker\": {\n",
    "        \"descricao\": \"Se o pagante é fumante ou não\",\n",
    "        \"tipo_dado\": \"Qualitativo\",\n",
    "        \"subtipo_dado\": \"Nominal\",\n",
    "        \"coluna\": \"smoker\"\n",
    "    },\n",
    "    \"day\": {\n",
    "        \"descricao\": \"Dia da semana\",\n",
    "        \"tipo_dado\": \"Qualitativo\",\n",
    "        \"subtipo_dado\": \"Ordinal\",\n",
    "        \"coluna\": \"day\"\n",
    "    },\n",
    "    \"time\": {\n",
    "        \"descricao\": \"Refeição (almoço ou jantar)\",\n",
    "        \"tipo_dado\": \"Qualitativo\",\n",
    "        \"subtipo_dado\": \"Nominal\",\n",
    "        \"coluna\": \"time\"\n",
    "    },\n",
    "    \"size\": {\n",
    "        \"descricao\": \"Tamanho da mesa\",\n",
    "        \"tipo_dado\": \"Quantitativo\",\n",
    "        \"subtipo_dado\": \"Discreto\",\n",
    "        \"coluna\": \"size\"\n",
    "    }\n",
    "}"
   ]
  },
  {
   "cell_type": "code",
   "execution_count": 3,
   "metadata": {},
   "outputs": [
    {
     "name": "stdout",
     "output_type": "stream",
     "text": [
      "Estatísticas de tendência central e dispersão para cada coluna numérica:\n",
      "               x          y\n",
      "count  44.000000  44.000000\n",
      "mean    9.000000   7.500682\n",
      "std     3.198837   1.958925\n",
      "min     4.000000   3.100000\n",
      "25%     7.000000   6.117500\n",
      "50%     8.000000   7.520000\n",
      "75%    11.000000   8.747500\n",
      "max    19.000000  12.740000\n"
     ]
    }
   ],
   "source": [
    "colunas_numericas = df.select_dtypes(include=['number'])\n",
    "\n",
    "estatisticas_por_coluna = colunas_numericas.describe()\n",
    "\n",
    "print(\"Estatísticas de tendência central e dispersão para cada coluna numérica:\")\n",
    "print(estatisticas_por_coluna)"
   ]
  },
  {
   "cell_type": "code",
   "execution_count": 4,
   "metadata": {},
   "outputs": [
    {
     "name": "stdout",
     "output_type": "stream",
     "text": [
      "Contagem de ocorrências para cada variável categórica:\n",
      "\n",
      "Contagem para a variável: dataset\n",
      "dataset\n",
      "I      11\n",
      "II     11\n",
      "III    11\n",
      "IV     11\n",
      "Name: count, dtype: int64\n"
     ]
    }
   ],
   "source": [
    "colunas_categoricas = df.select_dtypes(include=['object'])\n",
    "\n",
    "contagem_ocorrencias = {}\n",
    "for coluna in colunas_categoricas:\n",
    "    contagem_ocorrencias[coluna] = df[coluna].value_counts()\n",
    "\n",
    "print(\"Contagem de ocorrências para cada variável categórica:\")\n",
    "for coluna, contagem in contagem_ocorrencias.items():\n",
    "    print(f\"\\nContagem para a variável: {coluna}\")\n",
    "    print(contagem)"
   ]
  }
 ],
 "metadata": {
  "kernelspec": {
   "display_name": "Python 3.8.10 ('.venv': poetry)",
   "language": "python",
   "name": "python3"
  },
  "language_info": {
   "codemirror_mode": {
    "name": "ipython",
    "version": 3
   },
   "file_extension": ".py",
   "mimetype": "text/x-python",
   "name": "python",
   "nbconvert_exporter": "python",
   "pygments_lexer": "ipython3",
   "version": "3.11.5"
  },
  "orig_nbformat": 4,
  "vscode": {
   "interpreter": {
    "hash": "eb3c3305d8b111f0102f4f519c5f17abd113fe74db6752c355e994a9008815ef"
   }
  }
 },
 "nbformat": 4,
 "nbformat_minor": 2
}
